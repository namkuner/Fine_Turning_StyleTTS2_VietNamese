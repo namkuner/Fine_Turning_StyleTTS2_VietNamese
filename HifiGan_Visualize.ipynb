{
 "cells": [
  {
   "cell_type": "code",
   "id": "initial_id",
   "metadata": {
    "collapsed": true,
    "ExecuteTime": {
     "end_time": "2024-09-23T01:13:01.491716Z",
     "start_time": "2024-09-23T01:11:43.533166Z"
    }
   },
   "source": [
    "import torch.nn.functional as F\n",
    "import torch.nn as nn\n",
    "class UpSample1d(nn.Module):\n",
    "    def __init__(self, layer_type):\n",
    "        super().__init__()\n",
    "        self.layer_type = layer_type\n",
    "\n",
    "    def forward(self, x):\n",
    "        if self.layer_type == 'none':\n",
    "            return x\n",
    "        else:\n",
    "            return F.interpolate(x, scale_factor=2, mode='nearest')"
   ],
   "execution_count": 1,
   "outputs": []
  },
  {
   "metadata": {
    "ExecuteTime": {
     "end_time": "2024-09-23T01:13:01.539720Z",
     "start_time": "2024-09-23T01:13:01.496719Z"
    }
   },
   "cell_type": "code",
   "source": [
    "import torch\n",
    "test_upsample = UpSample1d(True)\n",
    "data = torch.ones([1,1,10])\n",
    "res = test_upsample(data)\n",
    "print(res.shape)\n",
    "print(res)\n",
    "print(data)"
   ],
   "id": "a4a6b59a1df3dcd3",
   "execution_count": 2,
   "outputs": []
  },
  {
   "metadata": {
    "ExecuteTime": {
     "end_time": "2024-09-23T01:16:45.400127Z",
     "start_time": "2024-09-23T01:16:36.061745Z"
    }
   },
   "cell_type": "code",
   "source": [
    "from torch.utils.tensorboard import SummaryWriter\n",
    "\n",
    "class AdaIN1d(nn.Module):\n",
    "    def __init__(self, style_dim, num_features):\n",
    "        super().__init__()\n",
    "        self.norm = nn.InstanceNorm1d(num_features, affine=False)\n",
    "        self.fc = nn.Linear(style_dim, num_features*2)\n",
    "\n",
    "    def forward(self, x, s):\n",
    "        h = self.fc(s)\n",
    "        h = h.view(h.size(0), h.size(1), 1)\n",
    "        gamma, beta = torch.chunk(h, chunks=2, dim=1)\n",
    "        return (1 + gamma) * self.norm(x) + beta\n",
    "\n",
    "model = AdaIN1d(style_dim=64, num_features=16)\n",
    "\n",
    "# Tạo đầu vào giả: x là tensor (batch_size=1, num_features=16, sequence_length=64)\n",
    "# s là tensor (batch_size=1, style_dim=64)\n",
    "x = torch.randn(1, 16, 64)  # Đầu vào dữ liệu x\n",
    "s = torch.randn(1, 64)      # Đầu vào style vector s\n",
    "writer = SummaryWriter('runs/simple_model_experiment')\n",
    "\n",
    "# Ghi lại kiến trúc của mô hình vào TensorBoard\n",
    "writer.add_graph(model, (x,s))\n",
    "writer.close()\n",
    "\n",
    "print(\"Mô hình đã được ghi vào TensorBoard.\")"
   ],
   "id": "606cf174e5810de3",
   "execution_count": 1,
   "outputs": []
  },
  {
   "metadata": {},
   "cell_type": "code",
   "execution_count": null,
   "source": "",
   "id": "8e1ec5f0c162df55",
   "outputs": []
  }
 ],
 "metadata": {
  "kernelspec": {
   "display_name": "Python 3",
   "language": "python",
   "name": "python3"
  },
  "language_info": {
   "codemirror_mode": {
    "name": "ipython",
    "version": 2
   },
   "file_extension": ".py",
   "mimetype": "text/x-python",
   "name": "python",
   "nbconvert_exporter": "python",
   "pygments_lexer": "ipython2",
   "version": "2.7.6"
  }
 },
 "nbformat": 4,
 "nbformat_minor": 5
}
