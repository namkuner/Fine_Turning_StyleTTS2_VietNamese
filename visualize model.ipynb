{
 "cells": [
  {
   "metadata": {
    "ExecuteTime": {
     "end_time": "2024-09-22T08:29:57.843758Z",
     "start_time": "2024-09-22T08:29:29.579213Z"
    }
   },
   "cell_type": "code",
   "source": [
    "import logging\n",
    "from logging import StreamHandler\n",
    "logger = logging.getLogger(__name__)\n",
    "logger.setLevel(logging.DEBUG)\n",
    "handler = StreamHandler()\n",
    "handler.setLevel(logging.DEBUG)\n",
    "logger.addHandler(handler)\n",
    "import os.path as osp\n",
    "import click\n",
    "import yaml\n",
    "import shutil\n",
    "from torch.utils.tensorboard import SummaryWriter\n",
    "from munch import Munch\n",
    "from utils import get_data_path_list\n",
    "from meldataset import build_dataloader\n",
    "from Utils.ASR.models import ASRCNN\n",
    "from Utils.JDC.model import JDCNet\n",
    "from Utils.PLBERT.util import load_plbert\n",
    "from models import  *\n",
    "from utils import *"
   ],
   "id": "ae3f3a880a112ddc",
   "execution_count": 3,
   "outputs": []
  },
  {
   "metadata": {
    "ExecuteTime": {
     "end_time": "2024-09-22T08:39:08.430607Z",
     "start_time": "2024-09-22T08:39:07.251811Z"
    }
   },
   "cell_type": "code",
   "source": [
    "config = yaml.safe_load(open(\"Configs/config_ft.yml\"))    \n",
    "    \n",
    "ASR_config = config.get('ASR_config', False)\n",
    "ASR_path = config.get('ASR_path', False)\n",
    "text_aligner = load_ASR_models(ASR_path, ASR_config)\n",
    "\n",
    "# load pretrained F0 model\n",
    "F0_path = config.get('F0_path', False)\n",
    "pitch_extractor = load_F0_models(F0_path)\n",
    "\n",
    "# load PL-BERT model\n",
    "BERT_path = config.get('PLBERT_dir', False)\n",
    "plbert = load_plbert(BERT_path)\n",
    "\n",
    "# build model\n",
    "model_params = recursive_munch(config['model_params'])\n",
    "multispeaker = model_params.multispeaker\n",
    "device = 'cuda'\n",
    "        from Modules.istftnet import Decoder\n",
    "        decoder = Decoder(dim_in=args.hidden_dim, style_dim=args.style_dim, dim_out=args.n_mels,\n",
    "                          resblock_kernel_sizes=args.decoder.resblock_kernel_sizes,\n",
    "                          upsample_rates=args.decoder.upsample_rates,\n",
    "                          upsample_initial_channel=args.decoder.upsample_initial_channel,\n",
    "                          resblock_dilation_sizes=args.decoder.resblock_dilation_sizes,\n",
    "                          upsample_kernel_sizes=args.decoder.upsample_kernel_sizes,\n",
    "                          gen_istft_n_fft=args.decoder.gen_istft_n_fft,\n",
    "                          gen_istft_hop_size=args.decoder.gen_istft_hop_size)"
   ],
   "id": "f02abc78791366f",
   "execution_count": 7,
   "outputs": []
  },
  {
   "cell_type": "code",
   "id": "initial_id",
   "metadata": {
    "collapsed": true,
    "ExecuteTime": {
     "end_time": "2024-09-22T00:13:17.051583Z",
     "start_time": "2024-09-22T00:12:11.496858Z"
    }
   },
   "source": [
    "from Modules.hifigan import Decoder\n",
    "import torch\n",
    "decoder = Decoder(dim_in=args.hidden_dim, style_dim=args.style_dim, dim_out=args.n_mels,\n",
    "                  resblock_kernel_sizes=args.decoder.resblock_kernel_sizes,\n",
    "                  upsample_rates=args.decoder.upsample_rates,\n",
    "                  upsample_initial_channel=args.decoder.upsample_initial_channel,\n",
    "                  resblock_dilation_sizes=args.decoder.resblock_dilation_sizes,\n",
    "                  upsample_kernel_sizes=args.decoder.upsample_kernel_sizes)"
   ],
   "execution_count": 1,
   "outputs": []
  },
  {
   "metadata": {},
   "cell_type": "code",
   "execution_count": null,
   "source": "",
   "id": "e86ea1b7060c89c3",
   "outputs": []
  }
 ],
 "metadata": {
  "kernelspec": {
   "display_name": "Python 3",
   "language": "python",
   "name": "python3"
  },
  "language_info": {
   "codemirror_mode": {
    "name": "ipython",
    "version": 2
   },
   "file_extension": ".py",
   "mimetype": "text/x-python",
   "name": "python",
   "nbconvert_exporter": "python",
   "pygments_lexer": "ipython2",
   "version": "2.7.6"
  }
 },
 "nbformat": 4,
 "nbformat_minor": 5
}
